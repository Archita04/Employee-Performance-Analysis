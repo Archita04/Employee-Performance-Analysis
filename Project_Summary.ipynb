{
 "cells": [
  {
   "cell_type": "markdown",
   "id": "c15acdd7",
   "metadata": {},
   "source": [
    "<h1> INX Future Inc Employee Performance - Project </h1>\n",
    "\n",
    "<h3>Project Summary </h3>\n",
    "\n",
    "INX Future Inc , (referred as INX ) , is one of the leading data analytics and automation solutions provider with over 15 years of global business presence. INX is consistently rated as top 20 best employers past 5 years. INX human resource policies are considered as employee friendly and widely perceived as best practices in the industry.\n",
    "\n",
    "Recent years, the employee performance indexes are not healthy and this is becoming a growing concerns among the top management. There has been increased escalations on service delivery and client satisfaction levels came down by 8 percentage points.\n",
    "\n",
    "CEO, Mr. Brain, knows the issues but concerned to take any actions in penalizing non-performing employees as this would affect the employee morale of all the employees in general and may further reduce the performance. Also, the market perception best employer and thereby attracting best talents to join the company.\n",
    "\n",
    "\n",
    "CEO, Mr. Brain decided to initiate a data science project, which analyses the current employee data and find the core underlying causes of this performance issues. Mr. Brain, being a data scientist himself, expects the findings of this project will help him to take right course of actions. He also expects a clear indicators of non performing employees, so that any penalization of non-performing employee, if required, may not significantly affect other employee morals.\n",
    "<h3>Requirements </h3>\n",
    "\n",
    "The following insights are expected from this project.\n",
    "\n",
    "1. Department wise performances\n",
    "2. Top 3 Important Factors effecting employee performance\n",
    "2. A trained model which can predict the employee performance based on factors as inputs.This will be used to hire employees \n",
    "4. Recommendations to improve the employee performance based on insights from analysis."
   ]
  },
  {
   "cell_type": "markdown",
   "id": "b82f0332",
   "metadata": {},
   "source": [
    "<h3> Feature Analysis</h3>\n",
    "    \n",
    "**EmpNumber** - Employee ID of the employee. This is a unique number that has been assigned to each and every employee, so we have 1200 distinct values.<br>\n",
    "**Age**** - Employees aged between 18 and 60 and this feature have normal distribution.<br>\n",
    "**Gender** - There are more than 60% of Male employees in the company.<br>\n",
    "**EducationBackground** - Around 40% employees are from Life Sciences educational background and 30% employees are from Medical EducationBackground.<br>\n",
    "**MaritalStatus** - Around 40% Employees are married.<br>\n",
    "**EmpDepartment** - Most of the employees are working in Sales, Development and Research & Development Department.<br>\n",
    "****EmpJobRole** - Around 20% Sales Executives and 20% Developers working in the company.<br>\n",
    "**BusinessTravelFrequency** - Around 60% of the employees travel rarely.<br>\n",
    "**DistanceFromHome** - Around 30% of employees resider near office location, hence this feature have a positive skewed distribution.<br>\n",
    "**EmpEducationLevel** - Around 50% of the employees educational level is more than 3.<br>\n",
    "**EmpEnvironmentSatisfaction** - Around 60% employees are satisfied with their environment. (ie.)more than 3<br>\n",
    "**EmpHourlyRate** - Hourly rate of the employees ranges from 30 to 100.<br>\n",
    "**EmpJobInvolvement** - Around 60% of employees Job involvement are greater than 3.<br>\n",
    "**EmpJobLevel** - Around 70% of the employees working are in Job Level 1 and 2.<br>\n",
    "**EmpJobSatisfaction** - Around 60% of the employees Job satisfaction rating is more than 3.<br>\n",
    "**NumCompaniesWorked** - Around 10% of employees joined the company as freshers and more than 30% of employees working in this company as their second company.<br>\n",
    "**OverTime** - Around 60% of employees don't work overtime.<br>\n",
    "**EmpLastSalaryHikePercent** - Around 50% of the employees last salary hike was between 11% and 15%<br>\n",
    "**EmpRelationshipSatisfaction** - Around 60% of employees are satisfied with relationship in the company.<br>\n",
    "**TotalWorkExperienceInYears** - Around 60% of employees work experience is less than 10 years.<br>\n",
    "**TrainingTimesLastYear** - Around 70% of the employees attended only 2 or 3 training times last year.<br>\n",
    "**EmpWorkLifeBalance** - Around 60% of employees work life balance is more than 3.<br>\n",
    "**ExperienceYearsAtThisCompany** - Around 40% of the employees are working more than 10 years in the company.<br>\n",
    "**ExperienceYearsInCurrentRole** - Around 40% of the employees are working in the current role for more than 5 years.<br>\n",
    "**YearsSinceLastPromotion** - Around 60% of employees were promoted last year.<br>\n",
    "**YearsWithCurrManager** - Around 40% of employees are working with their current manager for more than 5 years.<br>\n",
    "**Attrition** - Less than 20% employees have the possibility of leaving the company.<br>\n",
    "**PerformanceRating** - Around 70% of the employees performance rating is 3.<br>\n",
    "\n",
    "\n"
   ]
  },
  {
   "cell_type": "markdown",
   "id": "bf7343ce",
   "metadata": {},
   "source": [
    "<h1>Exploratory Data  Analysis</h1>\n",
    "\n",
    " For Univariate and Bivariate analysis and Multivariate **Seaborn,Matplotlib** libraries are used.. \n",
    " * Pie chats\n",
    " * histogram\n",
    " * boxplots\n",
    " * barcharts\n",
    " * countplots\n",
    " * pairplot\n",
    " \n",
    " These are mainly used for visual representation of data ..\n",
    " \n",
    " * The data contains 1200 rows and 28 columns\n",
    "* **Numerical columns** -Age,Distance From Home,Employee Hourly Rate,Num Companie sWorked,Emp Last Salary Hike Percent,\n",
    "Total Work Experience In Years,Experience Years At This Company,Training Times Last Year,Experience Years in Current Role,\n",
    "Years Since Last Promotion,Years With Current Manager\n",
    "* **Categorical columns** - Gender, Education Background,Marital StatusEmp Education Level,Emp Environment Satisfaction,\n",
    "Emp Job Involvement, Emp Department, Emp Job Role, Business Travel Frequency,Emp JobLevel,Emp Job Satisfaction,OverTime',\n",
    " Emp Relationship Satisfaction,Emp Work Life Balance,Attrition\n",
    " \n",
    "* While checking descriptive statistical details it indicates maximum value of most of the numerical columns are\n",
    "far away from its Mean and Median\n",
    "* There are many categorical columns are there... Most of the numerical columns are positively skewed distributions..\n",
    "* There is no constant columns(std=0)\n",
    "\n",
    "<h3> Some keys Point of EDA Part </h3>\n",
    " \n",
    "* **84% of employees of performing well in the company** , ..16% of people got poor rating of 2 and 11% were performed outstandingly with a rating of 4..Development department is performing well, after that Sales and Reaserch & developement departments..Grade 2 employees are high in Sales and resaerch & development department\n",
    "* Age is critical factor of performance...**Employees between 31-40 age group mostly working in this company,the Performance is maximum in this age groups**..31% employees are rated 3 and 5% rated 4 were in the age group 31-40..Grade 4 employees decreasing when Age increasing..\n",
    "* 60% of employees are male and 40% of employees were female\n",
    "* **31% of employees working in sales dept,30% were in development dept,23% were in research and development** and rest of the employeers were in HR,Data Science and finance which is less than 10%..Most peoples are employed in the role of sales executive (22.5%)and developer(20%)..\n",
    "* **Percentage of Grade 2 performers are high in Sales executive and Finace Manager job roles,mostly from Marketing(21.2%) and Technical Degree(18%) side**..\n",
    "* **70% of the people travel rarely**, 18% travel frequently rest do not travel\n",
    "* **13% of employees have 10 years of work experience and only 8% of employees have less than 2 years experience**..\n",
    "* Sales and Development departments conducted more trainings but that not seems to be fully beneficial to sales department..**Most of the Grade 4 employees attended more than 2 trainings last year**..\n",
    "* **50% of the people are living nearer to the office** i.e the distance from their home is lesser than or equal to 10...\n",
    "* **29% of emplyees worked overtime hours** and 71% were not\n",
    "* **36% of employees are only worked in 1 company previously** and 21% of employees worked more than 5 companies previously..13% Employees have no previous experience..\n",
    "* **79% grade 2 rated employees are highly satisfied with the Job enviornment** and More than 30% of grade 2 perfomers received a hourly rate between 81 and 100\n",
    "* **Weak performers are high in employees who have Doctorate(24%) and below college level education(22.3%)**..\n",
    "* **Around 85% of employees have high involvement in thier job but rest of the employees are partialy and minimaly involved in thier job**.\n",
    "* **63% of people have a bachelors degree or masters**\n",
    "* **39% employees are completly not satisfied with the working environment which is a high number**..Weak performers in R&D,HR, and Finance satisfied well with thier job,However a large percentage of Grade 3 employees are less satisfied with the job\n",
    "* **71% employees got 2 to 3 times training last year**, 20% of employees got tranings more than 4 times last year and **35% didnot attended any trainings last year**\n",
    "* **Relationship satisfaction is less in R&D and Finance department**\n",
    "* **61% of employees have better and 24.5% of have a good work life balance in the company**\n",
    "* Salary hike will differ based on job roles and experience,but most of the grade 3 performers got a hike of 10% to 15%...**Most of the grade 4 employees got 20 to 25%**\n",
    "* **30% of employees are freshers** \n",
    "* **68% employees have atleaset 2 years relationship in the current manager**\n",
    "* **63% of employees got promotion last 1 year period**\n",
    "* **Almost 40% of employees are recieved a hourly of 70 or more in the last year. Employees in HR department with weak poor performance are receiving a high hourly rate**\n",
    "* **A steady performance of 3 can be seen from employees who have worked in atleast 4 companies**..\n",
    "* **15% of employees left to another company..out of this 15% employees, 80% were rated 3 or more for thier performance**..\n",
    "* **93% of employees got a rating of 3 and more in Data science department** "
   ]
  },
  {
   "cell_type": "markdown",
   "id": "2ef29b5a",
   "metadata": {},
   "source": [
    "\n",
    "\n",
    "<h1>Data Pre Processing </h1>\n",
    "\n",
    "\n",
    "* Basic Checks - No null values\n",
    "* Conversion of Categorical Data: Handeled categorical by using  mannual encoding,one hot ending and Label encoding\n",
    "* For outlier treatment  **Median imputation** and **Quantile based flooring & capping** – (In this technique, the outliers        are capped at a certain value above 90th percentile or floored at a factor below the 10th percentile) are used..Most of          outliers are handled by imputing medians\n",
    "* **Numerical features are selected by using pearson correlation** heatmap..But there are no highly correlated features  are not there\n",
    "  * The experience in the current role and years with manager are having the higher correlation with each other.\n",
    "  * Experience years at this company and years with manager also have a good positive correlation.\n",
    "  * Experience years at this company and The experience in the current role also have a good positive correlation\n",
    "      \n",
    "* For **categorical feature selection** i adopted **chi square test** and p value..Except job satisfaction column,Features           with  higher p value gets removed..From the data analysis it is clealry visible that job satisfaction is an                    important feature.. When company wants to find its employee performance ,this feature should definetly consider..\n",
    "    Columns with low chi square score\n",
    "    * Gender,Business Trave Frequency,Education Background,Emp Education Level,Emp Job Involvement,\n",
    "         Emp Relationship Satisfaction,marital Status,Attrition\n",
    "     \n",
    "* check for duplicates - no duplicate rows\n",
    "    \n",
    " * **Data Normalization**-\n",
    " \n",
    "**Min Max scaler** - Min Max scaler is sclaing technique that scales all the data features in the range [0, 1]. Values of columns have years,kilometers,hourly rate etc..,values of these columns are different numeric figures....**MinMaxScaler preserves the shape of the original distribution**,it doesn’t meaningfully change the information embedded in the original data.Most of the columns are poitively skewed even after outlier treatment,the data set is small and treating outliers to a certain extend may leads to change in the total behaviour and pattern\n",
    "      \n",
    "      \n",
    " * **Data Balancing** - \n",
    " \n",
    "**SMOTE()** - It is an oversampling technique aims to balance class distribution by randomly increasing minority class examples by replicating them.Our data is highly imbalanced (72% :17% :11%) and any model without balancing would be a dump model..For balancing the data i used SMOTE() oversampling technique..."
   ]
  },
  {
   "cell_type": "markdown",
   "id": "0dabad5d",
   "metadata": {},
   "source": [
    "<h1> Model Creation</h1>    \n",
    "\n",
    "\n",
    "In the **model building** part,\n",
    "  * **Evaluation Metrics**-\n",
    "    * **Weighted F1 SCORE** - we are taking f1 score as the performance metrics,f1 score is the harmonic mean of precision            and recall..\n",
    "    * **why weighted f1 score??** Data is highly imbalanced (72% :17% :11%) and applying an algoithm with this             data leads to overfit and missclassfication will occur..Too avoid this problem we applied some SMOTE techniques and             selects evaluation metric as Weighted F1 score for checking the performance of our model...\n",
    "    * **Precision and Recall**- The percentage of true positive rate and False positive rate\n",
    "    * **Confusion Matrix** - To know the classfication in each classes, FPR and FNR and its perncetage,in which extend                 overfitting occurs\n",
    "       \n",
    "       \n",
    " I tried  with 8 base models and based on the performance selected **top 4 models** for tuning \n",
    " \n",
    " \n",
    "   * **Random Forest Classifier** - It is a supervised learning algorithm  and It is basically a set of decision trees (DT) from a        randomly selected subset of the training set and then It collects the votes from different decision trees to decide the          final prediction.In our model building at first, the Random model overfits with default paramters.The main reason is            imbalanced data set but with a good weighted f1 score of 94%..But it in real life scenario this model will not work well        due to its high variance...So i tried for a generalized model that produces a result with  low varaince and low \n",
    "   bais..After      hyper paramter tuning score is 93% with very minimal presense of overfitting..\n",
    "\n",
    "* **Catboost Classifier**- It is a boosting supervised machine learning algorthm mostly work with categorical data ..But the          model overfits even after hyper paramter tuning\n",
    "\n",
    "\n",
    "* **XGB and Gradient Boosting** - These are another boosting algorithms used for model building..Both the both models give good        result of 92% \n",
    "   * For **hyper paramtertuning** i used\n",
    "        * **GridSearch CV**-(is the process of performing hyperparameter tuning in order to determine the optimal values for a given model.)\n",
    "        * **Kfold Cross validation**-(It is data partitioning strategy) It really helps to avoid overfitting problem and helps  to build the model is a generalized one.\n",
    "       \n",
    "\n",
    "**Tried but Failed !!!!***\n",
    " * For hyper parameter tuning i tried Randomized SesrchCV  but result was not upto the mark...\n",
    " * Models like decsion tree,logistic regression and SVM also didnot give good results\n",
    " * Unsupervised model of PCA is also tried ,result was poor and it was not addressed the relevent features \n",
    " * Also tried Hard outlier handling and square root tranformation,but it resulted very poor model..\n",
    " * At first Plotly and hvplots libraries are used but due to file size issue changed to Seaborn and Matplotlib libraries "
   ]
  },
  {
   "cell_type": "markdown",
   "id": "c91f5fda",
   "metadata": {},
   "source": [
    "# TASK 1"
   ]
  },
  {
   "cell_type": "markdown",
   "id": "b99cc98b",
   "metadata": {},
   "source": [
    "### DEPARTMENT WISE PERFORMANCE REPORT"
   ]
  },
  {
   "cell_type": "markdown",
   "id": "457e5caa",
   "metadata": {},
   "source": [
    "#### Development- \n",
    "  Overall Development department performs highly among all other departments..\n",
    "* The department utilizing its work force efficiently and effectively irrespective of age group (Grade 2 employees are very less 1.1%).. \n",
    "* Most of the employees have a bachelor's or masters degree for thier job role.\n",
    "* Job involvment is high in this department and most of the employees have an experience of atleast 2 years ...\n",
    "* Employees are higly satisfied with this job role and employer relationship,but a good percentage of Grade 3 and 4 employees are not..\n",
    "* Distance is not creating any performance differnce in Development deparment because more than 70% employees travelling atleast 4 kms in this department...\n",
    "* Periodic Training are conducting in this department 90% employees attended atleast 2 training sessions.. 40% employees are dis-satisfied with Job Environment.\n",
    "* Salary hike for Grade 3 employees are low compared to other departments but a hike of 10 to 25 given to Grade 4 employees..\n",
    "* Attrition rate is also less in this department...\n",
    "\n",
    "#### Research and Development\n",
    "The second highest productive department in this company.\n",
    "* Most people  work as research scientist,R&D managers and Laboratary Technicians in this department..And a good percentage of them have a performance rating of 3 or higher\n",
    "* 80% of employees performing well in this department with rating of 3 and above..In research & development departemnt percentage of waek performers (Grade 2 employees) are equally high in all age groups\n",
    "* Grade 4 employees are high in Research scientist and Manager R&D job roles.\n",
    "* Weak performers recieved a hourly rate which is more than 70 in this department\n",
    "* A high dis-satisfaction among employees regarding the working environment and job is there..\n",
    "* Job involvement is high in this department but most weak performance is high in emoployees who have experience in the current role more than 4 years \n",
    "* Salary hike percentage seems to be reasonable and well addresed, most of the Grade 4 players recieved a hike of 20 to 25%\n",
    "* it can be understood that sufficient training has been conducted in the department,but its benefit is not fully recieved\n",
    "\n",
    "#### Sales\n",
    "This department have very high potential \n",
    "* The most important challenge in this department is Age of employees,performance was decreasing in employees with Age more than 35...\n",
    "* Sales executive and Sales representative are two major roles in this department,weak performers are high in sales executives..\n",
    "* Most of the employees have a education of bachelors or Masters,also employees from college education is also high in this department..\n",
    "* Training is in this department conducting timely but not that much beneficial to improve the performance...\n",
    "* Working environment and job dis_satisfaction percentage is high and most of the dis-satisfied employees got a rating of 2..\n",
    "* In Relationship wise 80% of employees satisfied moderatly or highly..But this satisfactional issues considerably affected the total sales performance..\n",
    "* Sales department has good experience employees but job involvement in this department high,but a 25% of employees job involvement is moderate or low.. This indicates department not fully analysing and utilizing the potential abilities of workforce efficiently..\n",
    "* Salary hike percentage is also low when compared to another departments ,most of the grade 3 employees received 10-15% hike and grade employees received 20 to 25%..\n",
    "* Attrition rate is also high in this department when comparing with other departments\n",
    "\n",
    "#### Human Resource\n",
    "* 81% employees performing well in this department\n",
    "* In HR department Grade 2 employees are high in 30 to 40 age group..Grade 4 employees are also less in numbers HR department\n",
    "* More than 60% Grade 2 employees recieved a high hourly rate of 91-100\n",
    "* Most of the weak performers only have a bachelors degree and most of the employees who only have education below college got a Grade of 4\n",
    "* Both Grade 2 and Grade 4 employees are highly disatisfied with working environment and also there is some Grade 3 employees not fully satisfied with thier job role..\n",
    "* Freshers are delivering good results with arating or 3 and 4\n",
    "* Although job involvement is 3 or more but weak perfomers rate is high in this group\n",
    "* Trainings are more usefull to this department,as the trend says as number quality training increases percentage of weak performers are decreasing\n",
    "* Salarfy hike is also seems to be reasonable ,Grade 4 employees recieved a good hike of more than 20%\n",
    "\n",
    "#### Finance\n",
    "* Out of total employees in Finanace department 30% of the are weak performers\n",
    "* Weak performers can be seen in all age group and the rate increasing when the age increases\n",
    "* A good percentage of Grade 2 employees recieved a hourly rate more than 70\n",
    "* Most of the weak performers only have a bachelors degree but 50% Grade 4 performers have only college level education\n",
    "* Weak performers are not satisfied with the working environment\n",
    "* There is a high dis satisfaction can be seen in Grade 4 and Grade 3 employees about relationship with employer\n",
    "* Employees mostly travelling more than 5kms(oneside) perday and the rate weak performers are increasing with the distance from home\n",
    "* Grade 4 employees have an experience of atleast 3..\n",
    "* The percentage of weak performers are low in employees who have attended a training of atleast 3\n",
    "* Attrition rate is also less in this department,but employees who leave the company are Grade 3 employees...\n",
    "\n",
    "#### Data Science\n",
    "* 93% of employees performing well in this department\n",
    "* Grade 4 employees are less in numbers from Data science department(6%)\n",
    "* Qualification of most of the employees are college level(certifications) and bachelor's\n",
    "* Employer relationship satisaction is low in this department\n",
    "* weak performers have an experience of more than 6years\n",
    "* Grade 4 performers are freshers and got a good hike 20 to 25% \n",
    "* 95% of employees attended ateast 2 trainings"
   ]
  },
  {
   "cell_type": "markdown",
   "id": "d8e0473b",
   "metadata": {},
   "source": [
    "# TASK 2"
   ]
  },
  {
   "cell_type": "markdown",
   "id": "e0876207",
   "metadata": {},
   "source": [
    "**Important features** \n"
   ]
  },
  {
   "cell_type": "markdown",
   "id": "a9b18066",
   "metadata": {},
   "source": [
    "\n",
    "  * **Environment Satisfaction**-It is an important factor that affecting the employee performance considerably in a comapny..20% employees are moderatly and 19% of employees not satisfied with the working environment which is a high number.... Due to this dis-satisfation it mostly affected sales,Human Resource and Finance department..\n",
    "\n",
    " There another crutial factor is **Age**\n",
    "  * **Age** is another critical feature that will affect the performance of employees..Data distribution is high in 30 to 40 age group,Grade 3 and Grade 4 employees are also high in this age group..The performance rate keeps on falling with increasing age..4 rated employees are comparitively less in the age group of more than 40\n",
    "  * **Salary Hike percentage**-Higher hikes motivate people to work better, and stay in the organization.f 50% Grade 3 employees recieved 10 to 15 and 20% recieved 16% to 20% hike in thier salary..7% employees with rating of 4 recieved a hike of 20% to 25%"
   ]
  },
  {
   "cell_type": "markdown",
   "id": "b18a707d",
   "metadata": {},
   "source": [
    "# TASK 3"
   ]
  },
  {
   "cell_type": "markdown",
   "id": "001a64b4",
   "metadata": {},
   "source": [
    "* In the above models **Random Forest** performed well and successfully predicts the test data with an **f1 score(Weighted) of 92% and accuracy of 92%**"
   ]
  },
  {
   "cell_type": "markdown",
   "id": "17274f6b",
   "metadata": {},
   "source": [
    "# TASK 4"
   ]
  },
  {
   "cell_type": "markdown",
   "id": "c30ecadf",
   "metadata": {},
   "source": [
    "### Recommendations to improve the employee performance based on insights from analysis"
   ]
  },
  {
   "cell_type": "markdown",
   "id": "eaab1b1f",
   "metadata": {},
   "source": [
    "* The important factor that affects the employee performance is environment satisfaction,company should ensure that employees are satisfied with environment if problems are there find reasons and rectify it..\n",
    "* Performance evaluation system is weak in most of the departments..Proper and timely performance evaluation is require to measure the deviations in the performance against actual performance \n",
    "* Trainings are another important factor..35% of employees didnot attend anyt training last year,Proper and sufficient is necessary for the employees..And if sufficient training are conducted company should ensure that the benfits trainings are actually recieved or not\n",
    "* Reasonable and well addressed salary hike should be provided,in sales and finance department some perncentage of weak employees got a hike of more than 15%..\n",
    "* An yearly survey regarding work life balance is needed to understand work life balance of employees in this company\n",
    "* Job dis-satisfaction rate is increasing in very department , 83% employees are performing with a grade of 3 and more..Company should seriously take of employee satisfaction matters timely and properly...\n",
    "* Comapny needs to analyse exit surveys and exit interviews of employees who left the company \n",
    "* Quaraterly analysis of Job involvement is necessary especially in Sales and Finance department\n",
    "*  63% of employees have a bachelors degree or masters,periodic skill improvement programs should be conducted in employees "
   ]
  },
  {
   "cell_type": "code",
   "execution_count": null,
   "id": "b461f98f",
   "metadata": {},
   "outputs": [],
   "source": []
  }
 ],
 "metadata": {
  "kernelspec": {
   "display_name": "Python 3 (ipykernel)",
   "language": "python",
   "name": "python3"
  },
  "language_info": {
   "codemirror_mode": {
    "name": "ipython",
    "version": 3
   },
   "file_extension": ".py",
   "mimetype": "text/x-python",
   "name": "python",
   "nbconvert_exporter": "python",
   "pygments_lexer": "ipython3",
   "version": "3.9.13"
  }
 },
 "nbformat": 4,
 "nbformat_minor": 5
}
